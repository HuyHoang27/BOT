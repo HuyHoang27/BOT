{
 "cells": [
  {
   "cell_type": "code",
   "execution_count": 1,
   "metadata": {},
   "outputs": [
    {
     "name": "stdout",
     "output_type": "stream",
     "text": [
      "79\n"
     ]
    }
   ],
   "source": [
    "import pandas as pd\n",
    "import random\n",
    "\n",
    "pens = [\"Bút bi\", \"Bút chì\", \"Sách\",\"chai nước\", \"Bút máy\",\"ghế\", \"Bút lông dầu\", \"Bút gel\", \"Bút xóa\", \"Bút highlight\", \"Bút kim\", \"Bút dạ quang\", \"Bút vẽ\"]\n",
    "papers = [\"Giấy A4\", \"Giấy A3\", \"Giấy A5\", \"Giấy photocopy\", \"Giấy in nhiệt\", \"Giấy fax\", \"Giấy decal\", \"Giấy note\", \"Giấy bìa màu\", \"Giấy kraft\"]\n",
    "office_supplies = [\"Thước kẻ\", \"Kéo\", \"Bút chì kim\", \"Gọt bút chì\", \"Ghim giấy\", \"Kẹp giấy\", \"Bìa còng\", \"Tập hồ sơ\", \"Thùng rác\", \"Máy tính cầm tay\"]\n",
    "personal_items = [\"Ví tiền\", \"Bóp\", \"Thẻ tên\", \"Dây đeo thẻ\", \"Móc khóa\", \"Bình nước\", \"Hộp cơm\", \"Ô dù\", \"Khăn tay\", \"Khẩu trang\"]\n",
    "office_devices = [\"Máy tính\", \"Máy in\", \"Máy fax\", \"Máy photocopy\", \"Máy chiếu\", \"Máy quét\", \"Máy tính bảng\", \"Điện thoại bàn\", \"Bộ đàm\"]\n",
    "decorative_items = [\"Cây cảnh\", \"Hoa tươi\", \"Bức tranh\", \"Khung ảnh\", \"Đồng hồ treo tường\", \"Lịch treo tường\", \"Mô hình trang trí\", \"Đèn bàn\", \"Kệ sách\"]\n",
    "cleaning_supplies = [\"Giấy vệ sinh\", \"Nước rửa tay\", \"Khăn giấy\", \"Nước lau đa năng\", \"Thùng rác\", \"Chổi quét\", \"Giẻ lau\", \"Nước xịt khử mùi\"]\n",
    "other_items = [\"Băng keo\", \"Dây thừng\", \"Dây chun\", \"Băng dính\", \"Keo dán\", \"Bấm kim\", \"Dập ghim\", \"Dao rọc giấy\", \"Bật lửa\", \"Kìm\"]\n",
    "\n",
    "products_vi = pens + papers + office_supplies + personal_items + office_devices + decorative_items + cleaning_supplies + other_items\n",
    "print(len(products_vi))\n",
    "\n",
    "locations = [\"A\", \"B\", \"C\", \"D\"]\n",
    "\n",
    "pens = [\"Ballpoint pen\", \"Pencil\", \"book\", \"bottle\",\"Mechanical pencil\", \"chair\", \"Fountain pen\", \"Gel pen\", \"Eraser pen\", \"Highlighter pen\", \"Felt tip pen\", \"Marker pen\", \"Drawing pen\"]\n",
    "papers = [\"A4 paper\", \"A3 paper\", \"A5 paper\", \"Copy paper\", \"Thermal paper\", \"Fax paper\", \"Decal paper\", \"Note paper\", \"Color paper\", \"Kraft paper\"]\n",
    "office_supplies = [\"Ruler\", \"Scissors\", \"Mechanical pencil lead\", \"Pencil sharpener\", \"Paper clip\", \"Binder clip\", \"Binder\", \"File folder\", \"Trash can\", \"Calculator\"]\n",
    "personal_items = [\"Wallet\", \"Purse\", \"Name tag\", \"Lanyard\", \"Keychain\", \"Water bottle\", \"Lunch box\", \"Umbrella\", \"Handkerchief\", \"Face mask\"]\n",
    "office_devices = [\"Computer\", \"Printer\", \"Fax machine\", \"Photocopier\", \"Projector\", \"Scanner\", \"Tablet computer\", \"Desk phone\", \"Walkie-talkie\"]\n",
    "decorative_items = [\"Houseplant\", \"Fresh flowers\", \"Painting\", \"Picture frame\", \"Wall clock\", \"Wall calendar\", \"Decorative model\", \"Desk lamp\", \"Bookshelf\"]\n",
    "cleaning_supplies = [\"Toilet paper\", \"Hand sanitizer\", \"Tissue paper\", \"Multipurpose cleaner\", \"Trash can\", \"Broom\", \"Cleaning cloth\", \"Air freshener\"]\n",
    "other_items = [\"Adhesive tape\", \"Rope\", \"Rubber band\", \"Duct tape\", \"Glue\", \"Stapler\", \"Staple\", \"Paper cutter\", \"Lighter\", \"Pliers\"]\n",
    "\n",
    "products_en = pens + papers + office_supplies + personal_items + office_devices + decorative_items + cleaning_supplies + other_items\n",
    "data = pd.DataFrame(columns=[\"Sản phẩm\", \"Sản phẩm(EN)\", \"Vị trí\", \"Giá\", \"Số lượng\"])\n",
    "# Thêm dữ liệu vào DataFrame\n",
    "for idx, (product_vi, product_en) in enumerate(zip(products_vi, products_en)):\n",
    "    location = random.choice(locations)\n",
    "    price = round(random.randint(1, 100)) \n",
    "    count = round(random.randint(5, 10))\n",
    "    data.loc[idx] = [product_vi, product_en, location, price, count]\n",
    "# Lưu DataFrame vào file CSV\n",
    "data.to_csv(\"data\\office_products.csv\", index=False)\n"
   ]
  }
 ],
 "metadata": {
  "kernelspec": {
   "display_name": "env",
   "language": "python",
   "name": "python3"
  },
  "language_info": {
   "codemirror_mode": {
    "name": "ipython",
    "version": 3
   },
   "file_extension": ".py",
   "mimetype": "text/x-python",
   "name": "python",
   "nbconvert_exporter": "python",
   "pygments_lexer": "ipython3",
   "version": "3.9.0rc2"
  }
 },
 "nbformat": 4,
 "nbformat_minor": 2
}
